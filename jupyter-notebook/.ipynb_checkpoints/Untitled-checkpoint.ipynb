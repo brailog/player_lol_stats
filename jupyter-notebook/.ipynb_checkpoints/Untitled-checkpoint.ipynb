{
 "cells": [
  {
   "cell_type": "code",
   "execution_count": 1,
   "id": "03ebac25",
   "metadata": {},
   "outputs": [],
   "source": [
    "import pandas as pd"
   ]
  },
  {
   "cell_type": "code",
   "execution_count": 2,
   "id": "cd3cfc22",
   "metadata": {},
   "outputs": [],
   "source": [
    "df = pd.read_csv('/home/gabriel/Downloads/stars s1 - Players.csv')"
   ]
  },
  {
   "cell_type": "code",
   "execution_count": 8,
   "id": "33d01889",
   "metadata": {},
   "outputs": [],
   "source": [
    "red = df.query('Team == \"Red\"')\n",
    "pain = df.query('Team == \"Pain\"')\n",
    "fluxo = df.query('Team == \"Fluxo\"')\n",
    "loud = df.query('Team == \"Loud\"')\n",
    "intz = df.query('Team == \"INTZ\"')\n",
    "furia = df.query('Team == \"Furia\"')\n",
    "keyd = df.query('Team == \"Keyd\"')\n",
    "liberty = df.query('Team == \"Liberty\"')\n",
    "los = df.query('Team == \"Los\"')\n",
    "kabum = df.query('Team == \"Kabum\"')"
   ]
  },
  {
   "cell_type": "code",
   "execution_count": 57,
   "id": "6bce0379",
   "metadata": {},
   "outputs": [],
   "source": [
    "def p2f(x):\n",
    "    return float(x.strip('%'))/100"
   ]
  },
  {
   "cell_type": "code",
   "execution_count": 99,
   "id": "06b6c71f",
   "metadata": {},
   "outputs": [],
   "source": [
    "def set_geral(team_df):\n",
    "    d = {}\n",
    "    list_players = []\n",
    "    for i in range(5):\n",
    "        kda = team_df.iloc[[i]]['KDA'].iloc[0] * 0.06 \n",
    "        cspm = team_df.iloc[[i]]['CSM'].iloc[0] * 0.05  # cs por minuto \n",
    "        gpm = team_df.iloc[[i]]['GPM'].iloc[0] * 0.02  # Gold por minuto\n",
    "        wrt = p2f(team_df.iloc[[i]]['Win rate'].iloc[0]) * 0.05  # Win rate\n",
    "        kp = p2f(team_df.iloc[[i]]['KP%'].iloc[0]) * 0.07  # kill participation\n",
    "        d[team_df.iloc[[i]]['Player'].iloc[0]] = {'geral': sum([kda, cspm, gpm, wrt, kp])}\n",
    "        list_players.append(d)\n",
    "        d = {}\n",
    "    return list_players\n",
    "\n",
    "lg = set_geral(loud)"
   ]
  },
  {
   "cell_type": "code",
   "execution_count": 100,
   "id": "9720be0e",
   "metadata": {},
   "outputs": [],
   "source": [
    "def set_visao(team_df):\n",
    "    d = {}\n",
    "    list_players = []\n",
    "    for i in range(5):\n",
    "        vspm = team_df.iloc[[i]]['VSPM'].iloc[0] * 0.1 # visao por minuto\n",
    "        wpm = team_df.iloc[[i]]['Avg VWPM'].iloc[0] * 0.1  # ward por minuto\n",
    "        gpm = team_df.iloc[[i]]['Avg WCPM'].iloc[0] * 0.5  # Gold por minuto\n",
    "        d[team_df.iloc[[i]]['Player'].iloc[0]] = {'visao': sum([vspm, wpm, gpm])}\n",
    "        list_players.append(d)\n",
    "        d = {}\n",
    "    return list_players\n",
    "\n",
    "sl = set_visao(loud)"
   ]
  },
  {
   "cell_type": "code",
   "execution_count": 101,
   "id": "fc9f2086",
   "metadata": {},
   "outputs": [],
   "source": [
    "def set_agress(team_df):\n",
    "    d = {}\n",
    "    list_players = []\n",
    "    for i in range(5):\n",
    "        dpm = team_df.iloc[[i]]['DPM'].iloc[0] * 0.05 # dano por minuto\n",
    "        cspm = team_df.iloc[[i]]['Solo Kills'].iloc[0]\n",
    "        cspm = cspm if cspm != '-' else 0 \n",
    "        cspm = int(cspm) * 0.1\n",
    "        dmg = team_df.iloc[[i]]['DMG%'].iloc[0] * 0.1  # % de dano\n",
    "        d[team_df.iloc[[i]]['Player'].iloc[0]] = {'agress': sum([dpm, cspm, dmg])}\n",
    "        list_players.append(d)\n",
    "        d = {}\n",
    "    return list_players\n",
    "\n",
    "la = set_agress(loud)"
   ]
  },
  {
   "cell_type": "code",
   "execution_count": 102,
   "id": "e15153b9",
   "metadata": {},
   "outputs": [],
   "source": [
    "def set_early(team_df):\n",
    "    d = {}\n",
    "    list_players = []\n",
    "    for i in range(5):\n",
    "        gd15 = team_df.iloc[[i]]['GD@15'].iloc[0] * 0.08\n",
    "        csd15 = team_df.iloc[[i]]['CSD@15'].iloc[0] * 0.07\n",
    "        xpd15 = team_df.iloc[[i]]['XPD@15'].iloc[0] * 0.1\n",
    "        d[team_df.iloc[[i]]['Player'].iloc[0]] = {'Early': sum([gd15, csd15, xpd15])}\n",
    "        list_players.append(d)\n",
    "        d = {}\n",
    "    return list_players\n",
    "\n",
    "le = set_early(loud)"
   ]
  },
  {
   "cell_type": "code",
   "execution_count": 106,
   "id": "60656cea",
   "metadata": {},
   "outputs": [],
   "source": [
    "summary = lg + sl + la + le"
   ]
  },
  {
   "cell_type": "code",
   "execution_count": 116,
   "id": "786190bb",
   "metadata": {},
   "outputs": [
    {
     "data": {
      "text/plain": [
       "{'Route': {'geral': 10.32827}}"
      ]
     },
     "execution_count": 116,
     "metadata": {},
     "output_type": "execute_result"
    }
   ],
   "source": [
    "summary[0]"
   ]
  },
  {
   "cell_type": "code",
   "execution_count": 124,
   "id": "61ca7848",
   "metadata": {},
   "outputs": [
    {
     "data": {
      "text/plain": [
       "[{'Route': {'geral': 10.32827}},\n",
       " {'Croc': {'geral': 7.66002}},\n",
       " {'Tinowns': {'geral': 9.900440000000001}},\n",
       " {'Ceos': {'geral': 6.082230000000001}},\n",
       " {'Robo': {'geral': 9.44421}},\n",
       " {'Route': {'visao': 0.354}},\n",
       " {'Croc': {'visao': 0.5529999999999999}},\n",
       " {'Tinowns': {'visao': 0.20700000000000002}},\n",
       " {'Ceos': {'visao': 0.389}},\n",
       " {'Robo': {'visao': 0.23600000000000002}},\n",
       " {'Route': {'agress': 43.52}},\n",
       " {'Croc': {'agress': 16.07}},\n",
       " {'Tinowns': {'agress': 26.6}},\n",
       " {'Ceos': {'agress': 13.64}},\n",
       " {'Robo': {'agress': 29.420000000000005}},\n",
       " {'Route': {'Early': -49.239999999999995}},\n",
       " {'Croc': {'Early': 92.62}},\n",
       " {'Tinowns': {'Early': -36.71000000000001}},\n",
       " {'Ceos': {'Early': 78.61}},\n",
       " {'Robo': {'Early': 27.34}}]"
      ]
     },
     "execution_count": 124,
     "metadata": {},
     "output_type": "execute_result"
    }
   ],
   "source": [
    "summary"
   ]
  },
  {
   "cell_type": "code",
   "execution_count": null,
   "id": "a04f94db",
   "metadata": {},
   "outputs": [],
   "source": []
  }
 ],
 "metadata": {
  "kernelspec": {
   "display_name": "Python 3 (ipykernel)",
   "language": "python",
   "name": "python3"
  },
  "language_info": {
   "codemirror_mode": {
    "name": "ipython",
    "version": 3
   },
   "file_extension": ".py",
   "mimetype": "text/x-python",
   "name": "python",
   "nbconvert_exporter": "python",
   "pygments_lexer": "ipython3",
   "version": "3.10.1"
  }
 },
 "nbformat": 4,
 "nbformat_minor": 5
}
